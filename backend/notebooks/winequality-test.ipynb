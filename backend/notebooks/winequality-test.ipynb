{
 "cells": [
  {
   "cell_type": "code",
   "execution_count": 1,
   "metadata": {
    "pycharm": {
     "name": "#%%\n"
    }
   },
   "outputs": [],
   "source": [
    "%load_ext autoreload\n",
    "%autoreload 2"
   ]
  },
  {
   "cell_type": "code",
   "execution_count": 6,
   "metadata": {
    "pycharm": {
     "name": "#%%\n"
    }
   },
   "outputs": [],
   "source": [
    "import sys\n",
    "sys.path.append('..')\n",
    "sys.path.append('.')"
   ]
  },
  {
   "cell_type": "code",
   "execution_count": 7,
   "metadata": {
    "pycharm": {
     "is_executing": true,
     "name": "#%%\n"
    }
   },
   "outputs": [
    {
     "data": {
      "text/plain": [
       "['/Users/meghas/EPITA/S2/gitandVersioning/dsp-group-project/backend/notebooks',\n",
       " '/Users/meghas/opt/miniconda3/envs/project_dsp/lib/python39.zip',\n",
       " '/Users/meghas/opt/miniconda3/envs/project_dsp/lib/python3.9',\n",
       " '/Users/meghas/opt/miniconda3/envs/project_dsp/lib/python3.9/lib-dynload',\n",
       " '',\n",
       " '/Users/meghas/opt/miniconda3/envs/project_dsp/lib/python3.9/site-packages',\n",
       " '..',\n",
       " '..',\n",
       " '.']"
      ]
     },
     "execution_count": 7,
     "metadata": {},
     "output_type": "execute_result"
    }
   ],
   "source": [
    "sys.path"
   ]
  },
  {
   "cell_type": "code",
   "execution_count": 8,
   "metadata": {
    "pycharm": {
     "name": "#%%\n"
    }
   },
   "outputs": [
    {
     "name": "stdout",
     "output_type": "stream",
     "text": [
      "/Users/meghas/EPITA/S2/gitandVersioning/dsp-group-project/backend/notebooks\r\n"
     ]
    }
   ],
   "source": [
    "!pwd"
   ]
  },
  {
   "cell_type": "markdown",
   "metadata": {
    "pycharm": {
     "name": "#%% md\n"
    }
   },
   "source": [
    "### Model building"
   ]
  },
  {
   "cell_type": "code",
   "execution_count": 14,
   "metadata": {
    "pycharm": {
     "name": "#%%\n"
    }
   },
   "outputs": [
    {
     "data": {
      "text/plain": [
       "{'accuracy': 0.6546875,\n",
       " 'precision': 0.6546875,\n",
       " 'recall': 0.6546875,\n",
       " 'f-score': 0.6546875}"
      ]
     },
     "execution_count": 14,
     "metadata": {},
     "output_type": "execute_result"
    }
   ],
   "source": [
    "import pandas as pd\n",
    "from winequality.train import build_model\n",
    "\n",
    "data = pd.read_csv('../data/winequality-red.csv')\n",
    "build_model(data)"
   ]
  },
  {
   "cell_type": "markdown",
   "metadata": {
    "pycharm": {
     "name": "#%% md\n"
    }
   },
   "source": [
    "### Model inference"
   ]
  },
  {
   "cell_type": "code",
   "execution_count": 17,
   "metadata": {
    "pycharm": {
     "is_executing": true,
     "name": "#%%\n"
    }
   },
   "outputs": [
    {
     "data": {
      "text/plain": [
       "array([5, 5, 5, ..., 6, 6, 6])"
      ]
     },
     "execution_count": 17,
     "metadata": {},
     "output_type": "execute_result"
    }
   ],
   "source": [
    "from winequality.inference import make_predictions\n",
    "\n",
    "inf_data = pd.read_csv('../data/winequality-red.csv')\n",
    "predictions = make_predictions(inf_data.loc[:, inf_data.columns!='quality'])\n",
    "predictions"
   ]
  },
  {
   "cell_type": "markdown",
   "metadata": {
    "pycharm": {
     "name": "#%% md\n"
    }
   },
   "source": [
    "## To remove the path from sys"
   ]
  },
  {
   "cell_type": "code",
   "execution_count": 18,
   "metadata": {
    "pycharm": {
     "name": "#%%\n"
    }
   },
   "outputs": [],
   "source": [
    "sys.path.remove('..')"
   ]
  },
  {
   "cell_type": "code",
   "execution_count": 19,
   "metadata": {
    "pycharm": {
     "name": "#%%\n"
    }
   },
   "outputs": [
    {
     "name": "stdout",
     "output_type": "stream",
     "text": [
      "Name: mlflow\r\n",
      "Version: 1.20.2\r\n",
      "Summary: MLflow: A Platform for ML Development and Productionization\r\n",
      "Home-page: https://mlflow.org/\r\n",
      "Author: Databricks\r\n",
      "Author-email: \r\n",
      "License: Apache License 2.0\r\n",
      "Location: /Users/meghas/opt/miniconda3/envs/project_dsp/lib/python3.9/site-packages\r\n",
      "Requires: Flask, click, querystring-parser, numpy, requests, pytz, packaging, sqlparse, sqlalchemy, databricks-cli, pandas, alembic, entrypoints, prometheus-flask-exporter, docker, importlib-metadata, cloudpickle, pyyaml, gitpython, gunicorn, protobuf\r\n",
      "Required-by: \r\n"
     ]
    }
   ],
   "source": [
    "!pip show mlflow"
   ]
  },
  {
   "cell_type": "code",
   "execution_count": null,
   "metadata": {
    "pycharm": {
     "name": "#%%\n"
    }
   },
   "outputs": [],
   "source": []
  }
 ],
 "metadata": {
  "kernelspec": {
   "display_name": "Python 3 (ipykernel)",
   "language": "python",
   "name": "python3"
  },
  "language_info": {
   "codemirror_mode": {
    "name": "ipython",
    "version": 3
   },
   "file_extension": ".py",
   "mimetype": "text/x-python",
   "name": "python",
   "nbconvert_exporter": "python",
   "pygments_lexer": "ipython3",
   "version": "3.9.12"
  }
 },
 "nbformat": 4,
 "nbformat_minor": 1
}
